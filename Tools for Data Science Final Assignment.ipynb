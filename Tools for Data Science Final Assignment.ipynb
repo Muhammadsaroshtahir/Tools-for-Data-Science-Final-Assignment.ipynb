{
  "metadata": {
    "kernelspec": {
      "name": "python",
      "display_name": "Python (Pyodide)",
      "language": "python"
    },
    "language_info": {
      "codemirror_mode": {
        "name": "python",
        "version": 3
      },
      "file_extension": ".py",
      "mimetype": "text/x-python",
      "name": "python",
      "nbconvert_exporter": "python",
      "pygments_lexer": "ipython3",
      "version": "3.8"
    }
  },
  "nbformat_minor": 5,
  "nbformat": 4,
  "cells": [
    {
      "id": "4a08cc20-8189-4d3c-af66-dcaf6282f5d0",
      "cell_type": "code",
      "source": "## Excerise 3\n## Introduction\nThis notebook contains exercises that demonstrate basic markdown formatting, arithmetic operations using code cells, and common data science concepts such as programming languages, libraries, and tools.\n",
      "metadata": {
        "trusted": true
      },
      "outputs": [],
      "execution_count": null
    },
    {
      "id": "66831125-3669-4c64-a55e-6528db524d67",
      "cell_type": "code",
      "source": "## Excerise 4\n## Data Science Languages\nPython R SQL Julia Scala\n",
      "metadata": {
        "trusted": true
      },
      "outputs": [],
      "execution_count": null
    },
    {
      "id": "867bc3b9-6de7-4efc-9dd8-227639f4751a",
      "cell_type": "code",
      "source": "## Excerise 5\n## Data Science Libraries\nPandas NumPy Matplotlib Seaborn Scikit-learn TensorFlow ggplot2\n",
      "metadata": {
        "trusted": true
      },
      "outputs": [],
      "execution_count": null
    },
    {
      "id": "f745a62d-9051-41a5-bf7a-24ed65b7d4bb",
      "cell_type": "code",
      "source": "## Excerise 6\n## Table of Data Science Tools\n\n| Tool            | Description                    |\n|-----------------|--------------------------------|\n| Jupyter Notebook| Interactive coding             |\n| RStudio         | IDE for R                      |\n| Apache Hadoop   | Big data processing            |\n| TensorFlow      | ML framework                   |\n| GitHub          | Version control and collaboration |\n",
      "metadata": {
        "trusted": true
      },
      "outputs": [],
      "execution_count": null
    },
    {
      "id": "8593b86e-755e-4248-9c9a-bc639d2a593b",
      "cell_type": "code",
      "source": "## Excerise 7\n## Examples of Arithmetic Expressions\nBelow is a basic example of how to use arithmetic expressions in code cells, such as multiplication and addition.\n",
      "metadata": {
        "trusted": true
      },
      "outputs": [],
      "execution_count": null
    },
    {
      "id": "ab1a586a-91d3-4731-8344-77756b48c873",
      "cell_type": "code",
      "source": "## Excerise 8\n# Multiply and add numbers\n(5 * 6) + 4\n",
      "metadata": {
        "trusted": true
      },
      "outputs": [],
      "execution_count": null
    },
    {
      "id": "8d1c7157-9952-4e44-9a34-fb7f0e162d13",
      "cell_type": "code",
      "source": "## Excerise 9\n# Convert 200 minutes to hours\nminutes = 200\nhours = minutes / 60\nhours\n",
      "metadata": {
        "trusted": true
      },
      "outputs": [],
      "execution_count": null
    },
    {
      "id": "47e80505-d694-47d4-a668-f5cc376448b0",
      "cell_type": "code",
      "source": "## Excerise 10\n## Objectives\n- Understand the use of markdown in Jupyter  \n- Perform arithmetic operations  \n- List common languages and libraries used in data science  \n- Share Jupyter notebooks through GitHub  \n- Display information in structured formats like tables\n",
      "metadata": {
        "trusted": true
      },
      "outputs": [],
      "execution_count": null
    },
    {
      "id": "da4b067d-0258-411d-bef5-40c0f7d800a1",
      "cell_type": "code",
      "source": "## Excerise 11\n**Author:** Muhammad Sarosh Tahir\n",
      "metadata": {
        "trusted": true
      },
      "outputs": [],
      "execution_count": null
    },
    {
      "id": "e793fa3b-718b-451a-b07e-bfa28b5ada00",
      "cell_type": "code",
      "source": "## Excerise 12\n## GitHub Link\n[View my notebook on GitHub](https://github.com/Muhammadsaroshtahir/Tools-for-Data-Science-Final-Assignment.ipynb)\n",
      "metadata": {
        "trusted": true
      },
      "outputs": [],
      "execution_count": null
    }
  ]
}